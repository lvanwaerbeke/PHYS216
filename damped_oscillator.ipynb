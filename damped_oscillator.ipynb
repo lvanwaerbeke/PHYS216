{
 "cells": [
  {
   "cell_type": "markdown",
   "metadata": {},
   "source": [
    "# PHYS216: Solutions to $\\ddot x+2\\beta \\dot x +\\omega_0^2 x=0$"
   ]
  },
  {
   "cell_type": "code",
   "execution_count": 39,
   "metadata": {
    "collapsed": false
   },
   "outputs": [
    {
     "name": "stdout",
     "output_type": "stream",
     "text": [
      "Populating the interactive namespace from numpy and matplotlib\n"
     ]
    },
    {
     "name": "stderr",
     "output_type": "stream",
     "text": [
      "WARNING: pylab import has clobbered these variables: ['beta']\n",
      "`%matplotlib` prevents importing * from pylab and numpy\n"
     ]
    }
   ],
   "source": [
    "import numpy as np\n",
    "import scipy as scp\n",
    "import matplotlib.pyplot as plt\n",
    "import matplotlib as mpl\n",
    "%pylab inline"
   ]
  },
  {
   "cell_type": "code",
   "execution_count": 296,
   "metadata": {
    "collapsed": true
   },
   "outputs": [],
   "source": [
    "def x_overdamped(t):\n",
    "    r_plus,r_minus = -beta+np.sqrt(beta**2-omega0**2),-beta-np.sqrt(beta**2-omega0**2)\n",
    "    B=(r_plus*x0-v0)/(r_plus-r_minus)\n",
    "    A=x0-B\n",
    "    return A*np.exp(r_plus*t)+B*np.exp(r_minus*t)"
   ]
  },
  {
   "cell_type": "code",
   "execution_count": 297,
   "metadata": {
    "collapsed": true
   },
   "outputs": [],
   "source": [
    "def x_underdamped(t):\n",
    "    omega1=np.sqrt(omega0**2-beta**2)\n",
    "    A=x0\n",
    "    B=(v0+beta*A)/omega1\n",
    "    return np.exp(-beta*t)*(A*np.cos(omega1*t)+B*np.sin(omega1*t))"
   ]
  },
  {
   "cell_type": "code",
   "execution_count": 298,
   "metadata": {
    "collapsed": false
   },
   "outputs": [],
   "source": [
    "def x_critical(t):\n",
    "    B=v0+beta*x0\n",
    "    A=x0\n",
    "    return A*np.exp(-beta*t)+B*t*np.exp(-beta*t)"
   ]
  },
  {
   "cell_type": "markdown",
   "metadata": {},
   "source": [
    "# Assign values to $\\beta$ and $\\omega_0$"
   ]
  },
  {
   "cell_type": "code",
   "execution_count": 358,
   "metadata": {
    "collapsed": true
   },
   "outputs": [],
   "source": [
    "beta=0.2\n",
    "omega0=0.2"
   ]
  },
  {
   "cell_type": "markdown",
   "metadata": {},
   "source": [
    "# Choose initial conditions $x_0$ and $v_0$"
   ]
  },
  {
   "cell_type": "code",
   "execution_count": 359,
   "metadata": {
    "collapsed": true
   },
   "outputs": [],
   "source": [
    "x0=1\n",
    "v0=-1"
   ]
  },
  {
   "cell_type": "code",
   "execution_count": 360,
   "metadata": {
    "collapsed": false
   },
   "outputs": [],
   "source": [
    "tmax=10*np.pi/omega0\n",
    "t=np.linspace(0,tmax,100)"
   ]
  },
  {
   "cell_type": "code",
   "execution_count": 361,
   "metadata": {
    "collapsed": false
   },
   "outputs": [
    {
     "name": "stdout",
     "output_type": "stream",
     "text": [
      "Critical case\n"
     ]
    }
   ],
   "source": [
    "if beta > omega0:\n",
    "    x=x_overdamped(t)\n",
    "    print('Over damped case')\n",
    "\n",
    "if beta == omega0:\n",
    "    x=x_critical(t)\n",
    "    print('Critical case')\n",
    "\n",
    "if beta < omega0:\n",
    "    x=x_underdamped(t)\n",
    "    print('Under damped case')"
   ]
  },
  {
   "cell_type": "code",
   "execution_count": 362,
   "metadata": {
    "collapsed": false
   },
   "outputs": [
    {
     "data": {
      "image/png": "[encoded data removed]",
      "text/plain": [
       "<matplotlib.figure.Figure at 0x12a779908>"
      ]
     },
     "metadata": {},
     "output_type": "display_data"
    }
   ],
   "source": [
    "plt.plot(t,x)\n",
    "plt.grid()"
   ]
  },
  {
   "cell_type": "markdown",
   "metadata": {},
   "source": []
  },
  {
   "cell_type": "code",
   "execution_count": null,
   "metadata": {
    "collapsed": true
   },
   "outputs": [],
   "source": []
  },
  {
   "cell_type": "code",
   "execution_count": null,
   "metadata": {
    "collapsed": true
   },
   "outputs": [],
   "source": []
  }
 ],
 "metadata": {
  "kernelspec": {
   "display_name": "Python 3",
   "language": "python",
   "name": "python3"
  },
  "language_info": {
   "codemirror_mode": {
    "name": "ipython",
    "version": 3
   },
   "file_extension": ".py",
   "mimetype": "text/x-python",
   "name": "python",
   "nbconvert_exporter": "python",
   "pygments_lexer": "ipython3",
   "version": "3.5.2"
  }
 },
 "nbformat": 4,
 "nbformat_minor": 2
}
